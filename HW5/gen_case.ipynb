{
 "metadata": {
  "language_info": {
   "codemirror_mode": {
    "name": "ipython",
    "version": 3
   },
   "file_extension": ".py",
   "mimetype": "text/x-python",
   "name": "python",
   "nbconvert_exporter": "python",
   "pygments_lexer": "ipython3",
   "version": "3.8.8"
  },
  "orig_nbformat": 2,
  "kernelspec": {
   "name": "python388jvsc74a57bd09388b921acf3223bba84329a7130b76507e1e2471c00c4c85a49271d59a7fbfd",
   "display_name": "Python 3.8.8 64-bit"
  }
 },
 "nbformat": 4,
 "nbformat_minor": 2,
 "cells": [
  {
   "cell_type": "code",
   "execution_count": 31,
   "metadata": {},
   "outputs": [
    {
     "output_type": "execute_result",
     "data": {
      "text/plain": [
       "34887"
      ]
     },
     "metadata": {},
     "execution_count": 31
    }
   ],
   "source": [
    "import sys\n",
    "sys.setrecursionlimit(10010)\n",
    "\n",
    "case_str = \"1\"\n",
    "for i in range(2, 7200):\n",
    "    if i%2 == 0:\n",
    "        case_str = case_str+f\" {i}\"\n",
    "    else:\n",
    "        case_str = f\"{i} \"+case_str\n",
    "arr = [ int(i) for i in case_str.split() ]\n",
    "len(case_str)"
   ]
  },
  {
   "cell_type": "code",
   "execution_count": 32,
   "metadata": {},
   "outputs": [],
   "source": [
    "def qsort(arr: list):\n",
    "    n = len(arr)\n",
    "    if n == 0:\n",
    "        return arr\n",
    "    pivot = arr[n // 2]\n",
    "    l = [ i for i in arr if i < pivot ]\n",
    "    g = [ i for i in arr if i > pivot ]\n",
    "    cnt = arr.count(pivot)\n",
    "    # print(pivot)\n",
    "    return qsort(l) + [pivot] * cnt + qsort(g)"
   ]
  },
  {
   "cell_type": "code",
   "execution_count": 34,
   "metadata": {
    "tags": []
   },
   "outputs": [],
   "source": [
    "sorted_arr = qsort(arr)"
   ]
  },
  {
   "cell_type": "code",
   "execution_count": null,
   "metadata": {},
   "outputs": [],
   "source": []
  }
 ]
}